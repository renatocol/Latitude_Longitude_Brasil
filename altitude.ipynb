{
 "cells": [
  {
   "cell_type": "markdown",
   "metadata": {},
   "source": [
    "\n",
    "## Altitude, Latitude e Longitude dos Municípios Brasileiros"
   ]
  },
  {
   "cell_type": "markdown",
   "metadata": {},
   "source": [
    "Apresenta-se a seguir um método fácil e prático para obter altitude, latitude e longitude de todos os municípios brasileiros, conforme medição divulgada pelo IBGE em 2010.\n",
    "\n",
    "O IBGE gerou originalmente esse banco de dados em um arquivo mdb, do Access da Microsoft, que além de ser proprietário não é facilmente convertido em outros formatos, dificultando o acesso às informações.  \n",
    "\n",
    "Os mesmos dados, porém, estão disponíveis em arquivo shapefile, que contém dados geoespaciais para a criação de mapas. Utilizando o GeoPandas em Python, podemos extrair todas as informações necessárias de maneira simples e rápida com o código abaixo.\n",
    "\n",
    "As bibliotecas utilizadas são:\n",
    "\n",
    "- pandas 0.24.2\n",
    "- geopandas 0.5.0\n",
    "\n",
    "Para evitar problemas com compatibilidade das dependências, recomenda-se instalar o geopandas via Anaconda, com a linha:\n",
    "\n",
    "conda install --channel conda-forge geopandas\n",
    "\n",
    "O arquivo shapefile relevante pode ser obtido no site do World Bank, clicando [aqui](https://datacatalog.worldbank.org/dataset/2010-brazil-municipalities-location/resource/64fc767a-524f-4c54-9502-ec99e7f4ca6e).\n",
    "\n",
    "Salve os arquivos baixados (shp, .shx, .dbf, .prj, .sbn, .sbx e .xml) e este notebook em uma mesma pasta.\n",
    "\n",
    "Observe que os nomes dos municípios devem ser digitados em caixa alta, na última linha:\n",
    "\n",
    "br.loc[br['Município'] == 'ALEGRE']\n",
    "\n",
    "Qualquer município do Brasil pode ser pesquisado. Em diversos casos, os resultados incluem a altitude, latitude e longitude das sedes dos municípios (listadas sempre em primeiro lugar) e de distritos, bairros e outras localidades."
   ]
  },
  {
   "cell_type": "code",
   "execution_count": 1,
   "metadata": {},
   "outputs": [],
   "source": [
    "import pandas as pd\n",
    "import geopandas as gpd\n",
    "from geopandas import GeoDataFrame\n",
    "\n",
    "df = \"BR_Localidades_2010.shp\"\n",
    "data = gpd.read_file(df)\n",
    "\n",
    "data['CD_GEOCODM'] = pd.to_numeric(data.CD_GEOCODM, downcast='integer', errors='coerce')\n",
    "br = data[['CD_GEOCODM', 'NM_MUNICIP', 'NM_UF', 'NM_LOCALID', 'LONG', 'LAT', 'ALT']]\n",
    "\n",
    "br.columns = ['Código', 'Município', 'Estado', 'Localidade', 'Longitude', 'Latitude', 'Altitude']"
   ]
  },
  {
   "cell_type": "code",
   "execution_count": 69,
   "metadata": {
    "scrolled": false
   },
   "outputs": [
    {
     "data": {
      "text/html": [
       "<div>\n",
       "<style scoped>\n",
       "    .dataframe tbody tr th:only-of-type {\n",
       "        vertical-align: middle;\n",
       "    }\n",
       "\n",
       "    .dataframe tbody tr th {\n",
       "        vertical-align: top;\n",
       "    }\n",
       "\n",
       "    .dataframe thead th {\n",
       "        text-align: right;\n",
       "    }\n",
       "</style>\n",
       "<table border=\"1\" class=\"dataframe\">\n",
       "  <thead>\n",
       "    <tr style=\"text-align: right;\">\n",
       "      <th></th>\n",
       "      <th>Código</th>\n",
       "      <th>Município</th>\n",
       "      <th>Estado</th>\n",
       "      <th>Localidade</th>\n",
       "      <th>Longitude</th>\n",
       "      <th>Latitude</th>\n",
       "      <th>Altitude</th>\n",
       "    </tr>\n",
       "  </thead>\n",
       "  <tbody>\n",
       "    <tr>\n",
       "      <th>15430</th>\n",
       "      <td>3502903.0</td>\n",
       "      <td>ARAÇOIABA DA SERRA</td>\n",
       "      <td>SÃO PAULO</td>\n",
       "      <td>ARAÇOIABA DA SERRA</td>\n",
       "      <td>-47.587243</td>\n",
       "      <td>-23.507320</td>\n",
       "      <td>625.457703</td>\n",
       "    </tr>\n",
       "    <tr>\n",
       "      <th>15431</th>\n",
       "      <td>3502903.0</td>\n",
       "      <td>ARAÇOIABA DA SERRA</td>\n",
       "      <td>SÃO PAULO</td>\n",
       "      <td>CLUBE DE CAMPO PRÓ-VIDA</td>\n",
       "      <td>-47.640192</td>\n",
       "      <td>-23.575777</td>\n",
       "      <td>614.165336</td>\n",
       "    </tr>\n",
       "  </tbody>\n",
       "</table>\n",
       "</div>"
      ],
      "text/plain": [
       "          Código           Município     Estado               Localidade  \\\n",
       "15430  3502903.0  ARAÇOIABA DA SERRA  SÃO PAULO       ARAÇOIABA DA SERRA   \n",
       "15431  3502903.0  ARAÇOIABA DA SERRA  SÃO PAULO  CLUBE DE CAMPO PRÓ-VIDA   \n",
       "\n",
       "       Longitude   Latitude    Altitude  \n",
       "15430 -47.587243 -23.507320  625.457703  \n",
       "15431 -47.640192 -23.575777  614.165336  "
      ]
     },
     "execution_count": 69,
     "metadata": {},
     "output_type": "execute_result"
    }
   ],
   "source": [
    "br.loc[br['Município'] == 'ARAÇOIABA DA SERRA']"
   ]
  },
  {
   "cell_type": "code",
   "execution_count": null,
   "metadata": {},
   "outputs": [],
   "source": []
  }
 ],
 "metadata": {
  "kernelspec": {
   "display_name": "Python 3",
   "language": "python",
   "name": "python3"
  },
  "language_info": {
   "codemirror_mode": {
    "name": "ipython",
    "version": 3
   },
   "file_extension": ".py",
   "mimetype": "text/x-python",
   "name": "python",
   "nbconvert_exporter": "python",
   "pygments_lexer": "ipython3",
   "version": "3.6.8"
  },
  "toc": {
   "base_numbering": 1,
   "nav_menu": {},
   "number_sections": false,
   "sideBar": true,
   "skip_h1_title": false,
   "title_cell": "Table of Contents",
   "title_sidebar": "Contents",
   "toc_cell": false,
   "toc_position": {},
   "toc_section_display": true,
   "toc_window_display": false
  }
 },
 "nbformat": 4,
 "nbformat_minor": 2
}
