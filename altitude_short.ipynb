{
 "cells": [
  {
   "cell_type": "markdown",
   "metadata": {},
   "source": [
    "\n",
    "## Altitude, Latitude e Longitude dos Municípios Brasileiros"
   ]
  },
  {
   "cell_type": "markdown",
   "metadata": {},
   "source": [
    "Apresenta-se a seguir um método fácil e prático para obter altitude, latitude e longitude de todos os municípios brasileiros, conforme medição divulgada pelo IBGE em 2010.\n",
    "\n",
    "O IBGE criou originalmente esse banco de dados em um arquivo mdb (do Access da Microsoft), que além de ser de software proprietário não é facilmente convertido em outros formatos, dificultando o acesso às informações.  \n",
    "\n",
    "Os mesmos dados, porém, estão disponíveis em arquivo shapefile, que contém dados geoespaciais para a criação de mapas. Utilizando o [GeoPandas](http://geopandas.org/) em Python, podemos extrair todas as informações necessárias de maneira simples e rápida com o código que está reproduzido abaixo.\n",
    "\n",
    "As bibliotecas utilizadas são:\n",
    "\n",
    "- pandas 0.24.2\n",
    "- geopandas 0.5.0\n",
    "\n",
    "O shapefile foi obtido no site do World Bank, [aqui](https://datacatalog.worldbank.org/dataset/2010-brazil-municipalities-location/resource/64fc767a-524f-4c54-9502-ec99e7f4ca6e).\n",
    "\n",
    "Além do código poder ser reproduzido independentemente em um computador pessoal, oferece-se aqui uma alternativa de acesso geral e fácil por meio do [Binder](https://mybinder.readthedocs.io/en/latest/index.html), \"an open community that makes it possible to create sharable, interactive, reproducible environments\", associado ao [Projeto Jupyter](https://jupyter.org/).\n",
    "\n",
    "**Como usar**\n",
    "\n",
    "Para obter a altitude, latitude e longitude de um município, primeiro execute uma vez (com SHIFT-ENTER) o código abaixo. Em seguida, digite o nome do município na última linha do cógigo, *sempre* em caixa alta (maiúsculas). Por exemplo, o município de Bebedouro:\n",
    "\n",
    "br.loc[br['Município'] == 'BEBEDOURO']\n",
    "\n",
    "Qualquer município do Brasil pode ser pesquisado. Apenas é necessário que os registros dos nomes sejam exatos, inclusive com acentos e cedilhas.\n",
    "\n",
    "Em diversos casos, os resultados incluem altitude, latitude e longitude das sedes dos municípios (listadas sempre em primeiro lugar) e de distritos, bairros e outras localidades.\n",
    "\n",
    "Autor: Renato Perim Colistete, rcolistete@usp.br"
   ]
  },
  {
   "cell_type": "code",
   "execution_count": 2,
   "metadata": {},
   "outputs": [],
   "source": [
    "import pandas as pd\n",
    "import geopandas as gpd\n",
    "from geopandas import GeoDataFrame\n",
    "\n",
    "df = \"BR_Localidades_2010.shp\"\n",
    "data = gpd.read_file(df)\n",
    "\n",
    "data['CD_GEOCODM'] = pd.to_numeric(data.CD_GEOCODM, downcast='integer', errors='coerce')\n",
    "br = data[['CD_GEOCODM', 'NM_MUNICIP', 'NM_UF', 'NM_LOCALID', 'LONG', 'LAT', 'ALT']]\n",
    "\n",
    "br.columns = ['Código', 'Município', 'Estado', 'Localidade', 'Longitude', 'Latitude', 'Altitude']"
   ]
  },
  {
   "cell_type": "code",
   "execution_count": 3,
   "metadata": {
    "scrolled": false
   },
   "outputs": [
    {
     "data": {
      "text/html": [
       "<div>\n",
       "<style scoped>\n",
       "    .dataframe tbody tr th:only-of-type {\n",
       "        vertical-align: middle;\n",
       "    }\n",
       "\n",
       "    .dataframe tbody tr th {\n",
       "        vertical-align: top;\n",
       "    }\n",
       "\n",
       "    .dataframe thead th {\n",
       "        text-align: right;\n",
       "    }\n",
       "</style>\n",
       "<table border=\"1\" class=\"dataframe\">\n",
       "  <thead>\n",
       "    <tr style=\"text-align: right;\">\n",
       "      <th></th>\n",
       "      <th>Código</th>\n",
       "      <th>Município</th>\n",
       "      <th>Estado</th>\n",
       "      <th>Localidade</th>\n",
       "      <th>Longitude</th>\n",
       "      <th>Latitude</th>\n",
       "      <th>Altitude</th>\n",
       "    </tr>\n",
       "  </thead>\n",
       "  <tbody>\n",
       "    <tr>\n",
       "      <th>15568</th>\n",
       "      <td>3506102.0</td>\n",
       "      <td>BEBEDOURO</td>\n",
       "      <td>SÃO PAULO</td>\n",
       "      <td>BEBEDOURO</td>\n",
       "      <td>-48.477362</td>\n",
       "      <td>-20.949816</td>\n",
       "      <td>564.735362</td>\n",
       "    </tr>\n",
       "    <tr>\n",
       "      <th>15569</th>\n",
       "      <td>3506102.0</td>\n",
       "      <td>BEBEDOURO</td>\n",
       "      <td>SÃO PAULO</td>\n",
       "      <td>ANDES</td>\n",
       "      <td>-48.476871</td>\n",
       "      <td>-21.052440</td>\n",
       "      <td>634.619586</td>\n",
       "    </tr>\n",
       "    <tr>\n",
       "      <th>15570</th>\n",
       "      <td>3506102.0</td>\n",
       "      <td>BEBEDOURO</td>\n",
       "      <td>SÃO PAULO</td>\n",
       "      <td>BOTAFOGO</td>\n",
       "      <td>-48.549585</td>\n",
       "      <td>-20.997468</td>\n",
       "      <td>609.000219</td>\n",
       "    </tr>\n",
       "    <tr>\n",
       "      <th>15571</th>\n",
       "      <td>3506102.0</td>\n",
       "      <td>BEBEDOURO</td>\n",
       "      <td>SÃO PAULO</td>\n",
       "      <td>TURVÍNIA</td>\n",
       "      <td>-48.645836</td>\n",
       "      <td>-21.014704</td>\n",
       "      <td>537.351834</td>\n",
       "    </tr>\n",
       "  </tbody>\n",
       "</table>\n",
       "</div>"
      ],
      "text/plain": [
       "          Código  Município     Estado Localidade  Longitude   Latitude  \\\n",
       "15568  3506102.0  BEBEDOURO  SÃO PAULO  BEBEDOURO -48.477362 -20.949816   \n",
       "15569  3506102.0  BEBEDOURO  SÃO PAULO      ANDES -48.476871 -21.052440   \n",
       "15570  3506102.0  BEBEDOURO  SÃO PAULO   BOTAFOGO -48.549585 -20.997468   \n",
       "15571  3506102.0  BEBEDOURO  SÃO PAULO   TURVÍNIA -48.645836 -21.014704   \n",
       "\n",
       "         Altitude  \n",
       "15568  564.735362  \n",
       "15569  634.619586  \n",
       "15570  609.000219  \n",
       "15571  537.351834  "
      ]
     },
     "execution_count": 3,
     "metadata": {},
     "output_type": "execute_result"
    }
   ],
   "source": [
    "br.loc[br['Município'] == 'BEBEDOURO']"
   ]
  },
  {
   "cell_type": "code",
   "execution_count": null,
   "metadata": {},
   "outputs": [],
   "source": []
  }
 ],
 "metadata": {
  "kernelspec": {
   "display_name": "Python 3",
   "language": "python",
   "name": "python3"
  },
  "language_info": {
   "codemirror_mode": {
    "name": "ipython",
    "version": 3
   },
   "file_extension": ".py",
   "mimetype": "text/x-python",
   "name": "python",
   "nbconvert_exporter": "python",
   "pygments_lexer": "ipython3",
   "version": "3.6.7"
  },
  "toc": {
   "base_numbering": 1,
   "nav_menu": {},
   "number_sections": false,
   "sideBar": true,
   "skip_h1_title": false,
   "title_cell": "Table of Contents",
   "title_sidebar": "Contents",
   "toc_cell": false,
   "toc_position": {},
   "toc_section_display": true,
   "toc_window_display": false
  }
 },
 "nbformat": 4,
 "nbformat_minor": 2
}
